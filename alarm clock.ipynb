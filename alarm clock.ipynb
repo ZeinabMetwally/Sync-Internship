{
 "cells": [
  {
   "cell_type": "code",
   "execution_count": 2,
   "id": "62b93beb",
   "metadata": {},
   "outputs": [
    {
     "name": "stdout",
     "output_type": "stream",
     "text": [
      "Collecting tk\n",
      "  Obtaining dependency information for tk from https://files.pythonhosted.org/packages/1e/0b/029cbdb868bb555fed99bf6540fff072d500b3f895873709f25084e85e33/tk-0.1.0-py3-none-any.whl.metadata\n",
      "  Downloading tk-0.1.0-py3-none-any.whl.metadata (693 bytes)\n",
      "Downloading tk-0.1.0-py3-none-any.whl (3.9 kB)\n",
      "Installing collected packages: tk\n",
      "Successfully installed tk-0.1.0\n"
     ]
    }
   ],
   "source": [
    "!pip install tk"
   ]
  },
  {
   "cell_type": "code",
   "execution_count": 3,
   "id": "19f0bc3b",
   "metadata": {},
   "outputs": [
    {
     "name": "stdout",
     "output_type": "stream",
     "text": [
      "Collecting datetime\n",
      "  Obtaining dependency information for datetime from https://files.pythonhosted.org/packages/f3/78/8e382b8cb4346119e2e04270b6eb4a01c5ee70b47a8a0244ecdb157204f7/DateTime-5.5-py3-none-any.whl.metadata\n",
      "  Downloading DateTime-5.5-py3-none-any.whl.metadata (33 kB)\n",
      "Collecting zope.interface (from datetime)\n",
      "  Obtaining dependency information for zope.interface from https://files.pythonhosted.org/packages/53/bf/c00f3ecdafd70490f4ee2997316155de765bad811d229a11224cdc1363a5/zope.interface-6.2-cp38-cp38-win_amd64.whl.metadata\n",
      "  Downloading zope.interface-6.2-cp38-cp38-win_amd64.whl.metadata (43 kB)\n",
      "     ---------------------------------------- 0.0/43.1 kB ? eta -:--:--\n",
      "     ---------------------------------------- 43.1/43.1 kB 1.1 MB/s eta 0:00:00\n",
      "Requirement already satisfied: pytz in c:\\users\\dell\\anaconda3\\lib\\site-packages (from datetime) (2023.3.post1)\n",
      "Requirement already satisfied: setuptools in c:\\users\\dell\\anaconda3\\lib\\site-packages (from zope.interface->datetime) (68.0.0)\n",
      "Downloading DateTime-5.5-py3-none-any.whl (52 kB)\n",
      "   ---------------------------------------- 0.0/52.6 kB ? eta -:--:--\n",
      "   ---------------------------------------- 52.6/52.6 kB 2.7 MB/s eta 0:00:00\n",
      "Downloading zope.interface-6.2-cp38-cp38-win_amd64.whl (204 kB)\n",
      "   ---------------------------------------- 0.0/204.4 kB ? eta -:--:--\n",
      "   ------------ --------------------------- 61.4/204.4 kB 1.6 MB/s eta 0:00:01\n",
      "   ---------------------- ----------------- 112.6/204.4 kB 1.6 MB/s eta 0:00:01\n",
      "   ---------------------------------------- 204.4/204.4 kB 1.6 MB/s eta 0:00:00\n",
      "Installing collected packages: zope.interface, datetime\n",
      "Successfully installed datetime-5.5 zope.interface-6.2\n"
     ]
    }
   ],
   "source": [
    "!pip install datetime"
   ]
  },
  {
   "cell_type": "code",
   "execution_count": 6,
   "id": "52fe373e",
   "metadata": {},
   "outputs": [
    {
     "name": "stdout",
     "output_type": "stream",
     "text": [
      "Requirement already satisfied: pywin32 in c:\\users\\dell\\anaconda3\\lib\\site-packages (305.1)\n"
     ]
    }
   ],
   "source": [
    "!pip install pywin32\n"
   ]
  },
  {
   "cell_type": "code",
   "execution_count": 7,
   "id": "10b0c6ed",
   "metadata": {},
   "outputs": [],
   "source": [
    "from tkinter import *\n",
    "import datetime\n",
    "import time\n",
    "import winsound"
   ]
  },
  {
   "cell_type": "code",
   "execution_count": 8,
   "id": "78180ccb",
   "metadata": {},
   "outputs": [],
   "source": [
    "def alarm(set_alarm_timer):\n",
    "    while True:\n",
    "        time.sleep(1)\n",
    "        current_time = datetime.datetime.now()\n",
    "        now = current_time.strftime(\"%H:%M:%S\")\n",
    "        date = current_time.strftime(\"%d/%m/%Y\")\n",
    "        print(\"The Set Date is:\",date)\n",
    "        print(now)\n",
    "        if now == set_alarm_timer:\n",
    "            print(\"Time to Wake up\")\n",
    "        winsound.PlaySound(\"sound.wav\",winsound.SND_ASYNC)\n",
    "        break\n",
    "def actual_time():\n",
    "    set_alarm_timer = f\"{hour.get()}:{min.get()}:{sec.get()}\"\n",
    "    alarm(set_alarm_timer)"
   ]
  },
  {
   "cell_type": "code",
   "execution_count": null,
   "id": "1a481f4e",
   "metadata": {},
   "outputs": [
    {
     "name": "stdout",
     "output_type": "stream",
     "text": [
      "The Set Date is: 04/04/2024\n",
      "17:07:47\n"
     ]
    }
   ],
   "source": [
    "\n",
    "clock = Tk()\n",
    "clock.title(\"DataFlair Alarm Clock\")\n",
    "clock.geometry(\"400x400\")\n",
    "time_format=Label(clock, text= \"Enter time in 24 hour format!\", fg=\"white\",bg=\"#9CADCE\",font=\"Arial\").place(x=60,y=120)\n",
    "addTime = Label(clock,text = \"Hour  Min   Sec\",font=40).place(x = 110)\n",
    "setYourAlarm = Label(clock,text = \"When to wake you up\",fg=\"blue\",relief = \"solid\",font=(\"Helevetica\",7,\"bold\")).place(x=0, y=29)\n",
    "# The Variables we require to set the alarm(initialization):\n",
    "hour = StringVar()\n",
    "min = StringVar()\n",
    "sec = StringVar()\n",
    "#Time required to set the alarm clock:\n",
    "hourTime= Entry(clock,textvariable = hour,bg = \"white\",width = 15).place(x=110,y=30)\n",
    "minTime= Entry(clock,textvariable = min,bg = \"white\",width = 15).place(x=150,y=30)\n",
    "secTime = Entry(clock,textvariable = sec,bg = \"white\",width = 15).place(x=200,y=30)\n",
    "#To take the time input by user:\n",
    "submit = Button(clock,text = \"Set Alarm\",fg=\"#9CADCE\",width = 10,command = actual_time).place(x =110,y=70)\n",
    "clock.mainloop() #run"
   ]
  },
  {
   "cell_type": "code",
   "execution_count": 1,
   "id": "f7ca5d59",
   "metadata": {},
   "outputs": [
    {
     "name": "stdout",
     "output_type": "stream",
     "text": [
      "Current working directory: C:\\Users\\DELL\n"
     ]
    }
   ],
   "source": [
    "\n",
    "import os\n",
    "cwd = os.getcwd()\n",
    "print(\"Current working directory:\", cwd)\n"
   ]
  },
  {
   "cell_type": "code",
   "execution_count": null,
   "id": "2c59c7b5",
   "metadata": {},
   "outputs": [],
   "source": []
  }
 ],
 "metadata": {
  "kernelspec": {
   "display_name": "Python 3 (ipykernel)",
   "language": "python",
   "name": "python3"
  },
  "language_info": {
   "codemirror_mode": {
    "name": "ipython",
    "version": 3
   },
   "file_extension": ".py",
   "mimetype": "text/x-python",
   "name": "python",
   "nbconvert_exporter": "python",
   "pygments_lexer": "ipython3",
   "version": "3.8.18"
  }
 },
 "nbformat": 4,
 "nbformat_minor": 5
}
