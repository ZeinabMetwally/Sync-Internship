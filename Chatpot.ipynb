{
 "cells": [
  {
   "cell_type": "code",
   "execution_count": 7,
   "id": "c1ad6d11",
   "metadata": {},
   "outputs": [],
   "source": [
    "import nltk\n",
    "from nltk.chat.util import Chat, reflections"
   ]
  },
  {
   "cell_type": "code",
   "execution_count": 9,
   "id": "37100611",
   "metadata": {},
   "outputs": [],
   "source": [
    "#creating q&a\n",
    "pairs=[\n",
    "    [\n",
    "        r\"Hello|Hi|Hey\",\n",
    "        [\"Hello , how are you today ?\"]\n",
    "    ],\n",
    "    [\n",
    "        r\"i'm fine\",\n",
    "        [\"Glad to hear that  how i can help you\"]\n",
    "    ],\n",
    "    [\n",
    "        r\"How are you?\",\n",
    "        [\" i'm good\"]\n",
    "    ],\n",
    "    [\n",
    "        r\"Who are you?\",\n",
    "        [\"i'm chatbot\"]\n",
    "    ],\n",
    "    [\n",
    "        r\"What is you name?\",\n",
    "        [\"My name is Your AI assisstant\"]\n",
    "    ],\n",
    "    [\n",
    "        r\"I want to make an appointment\",\n",
    "        [\"Sure, which city?\"]\n",
    "    ],\n",
    "    [\n",
    "        r\"Giza ,Egypt\",\n",
    "        [\"okay,date and time please\"]\n",
    "    ],\n",
    "    [\n",
    "        r\"sunday 7 apr\",\n",
    "        [\"Your booking is confirmed\"]\n",
    "    ],\n",
    "    [\n",
    "        r\"thanks\",\n",
    "        [\"you are wlcome!\"]\n",
    "    ],\n",
    "    [\n",
    "        r\"Exit\",\n",
    "        [\"see you soon!\"]\n",
    "    ],\n",
    "]"
   ]
  },
  {
   "cell_type": "code",
   "execution_count": 10,
   "id": "4717950c",
   "metadata": {},
   "outputs": [
    {
     "data": {
      "text/plain": [
       "{'i am': 'you are',\n",
       " 'i was': 'you were',\n",
       " 'i': 'you',\n",
       " \"i'm\": 'you are',\n",
       " \"i'd\": 'you would',\n",
       " \"i've\": 'you have',\n",
       " \"i'll\": 'you will',\n",
       " 'my': 'your',\n",
       " 'you are': 'I am',\n",
       " 'you were': 'I was',\n",
       " \"you've\": 'I have',\n",
       " \"you'll\": 'I will',\n",
       " 'your': 'my',\n",
       " 'yours': 'mine',\n",
       " 'you': 'me',\n",
       " 'me': 'you'}"
      ]
     },
     "execution_count": 10,
     "metadata": {},
     "output_type": "execute_result"
    }
   ],
   "source": [
    "reflections"
   ]
  },
  {
   "cell_type": "code",
   "execution_count": null,
   "id": "ca8eaf8e",
   "metadata": {},
   "outputs": [
    {
     "name": "stdout",
     "output_type": "stream",
     "text": [
      "write here to start the chat\n",
      ">How are you\n",
      " i'm good\n",
      ">i want to make an appointment\n",
      "Sure, which city?\n",
      ">exit\n",
      "see you soon!\n"
     ]
    }
   ],
   "source": [
    "#define message to start the chat\n",
    "print(\"write here to start the chat\")\n",
    "chat= Chat(pairs)\n",
    "chat.converse()"
   ]
  },
  {
   "cell_type": "code",
   "execution_count": null,
   "id": "d869c60f",
   "metadata": {},
   "outputs": [],
   "source": []
  }
 ],
 "metadata": {
  "kernelspec": {
   "display_name": "Python 3 (ipykernel)",
   "language": "python",
   "name": "python3"
  },
  "language_info": {
   "codemirror_mode": {
    "name": "ipython",
    "version": 3
   },
   "file_extension": ".py",
   "mimetype": "text/x-python",
   "name": "python",
   "nbconvert_exporter": "python",
   "pygments_lexer": "ipython3",
   "version": "3.8.18"
  }
 },
 "nbformat": 4,
 "nbformat_minor": 5
}
